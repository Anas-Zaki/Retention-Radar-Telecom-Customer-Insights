{
 "cells": [
  {
   "cell_type": "code",
   "execution_count": null,
   "id": "499b55eb-d48b-4ed1-8b2f-819689245b32",
   "metadata": {},
   "outputs": [],
   "source": []
  },
  {
   "cell_type": "code",
   "execution_count": 1,
   "id": "4d08664b-dd8a-4dbd-bd1d-24bec61da924",
   "metadata": {},
   "outputs": [],
   "source": [
    "import pandas as pd\n",
    "import numpy as np\n",
    "import warnings\n",
    "warnings.filterwarnings('ignore')"
   ]
  },
  {
   "cell_type": "code",
   "execution_count": 2,
   "id": "5aef8c78-22f2-4239-8b45-a3611c338126",
   "metadata": {},
   "outputs": [
    {
     "ename": "FileNotFoundError",
     "evalue": "[Errno 2] No such file or directory: 'TRAIN DATA.csv'",
     "output_type": "error",
     "traceback": [
      "\u001b[1;31m---------------------------------------------------------------------------\u001b[0m",
      "\u001b[1;31mFileNotFoundError\u001b[0m                         Traceback (most recent call last)",
      "Cell \u001b[1;32mIn[2], line 1\u001b[0m\n\u001b[1;32m----> 1\u001b[0m df \u001b[38;5;241m=\u001b[39m pd\u001b[38;5;241m.\u001b[39mread_csv(\u001b[38;5;124m'\u001b[39m\u001b[38;5;124mTRAIN DATA.csv\u001b[39m\u001b[38;5;124m'\u001b[39m)\n\u001b[0;32m      2\u001b[0m df\u001b[38;5;241m.\u001b[39mhead()\n",
      "File \u001b[1;32m~\\anaconda3\\Lib\\site-packages\\pandas\\io\\parsers\\readers.py:1026\u001b[0m, in \u001b[0;36mread_csv\u001b[1;34m(filepath_or_buffer, sep, delimiter, header, names, index_col, usecols, dtype, engine, converters, true_values, false_values, skipinitialspace, skiprows, skipfooter, nrows, na_values, keep_default_na, na_filter, verbose, skip_blank_lines, parse_dates, infer_datetime_format, keep_date_col, date_parser, date_format, dayfirst, cache_dates, iterator, chunksize, compression, thousands, decimal, lineterminator, quotechar, quoting, doublequote, escapechar, comment, encoding, encoding_errors, dialect, on_bad_lines, delim_whitespace, low_memory, memory_map, float_precision, storage_options, dtype_backend)\u001b[0m\n\u001b[0;32m   1013\u001b[0m kwds_defaults \u001b[38;5;241m=\u001b[39m _refine_defaults_read(\n\u001b[0;32m   1014\u001b[0m     dialect,\n\u001b[0;32m   1015\u001b[0m     delimiter,\n\u001b[1;32m   (...)\u001b[0m\n\u001b[0;32m   1022\u001b[0m     dtype_backend\u001b[38;5;241m=\u001b[39mdtype_backend,\n\u001b[0;32m   1023\u001b[0m )\n\u001b[0;32m   1024\u001b[0m kwds\u001b[38;5;241m.\u001b[39mupdate(kwds_defaults)\n\u001b[1;32m-> 1026\u001b[0m \u001b[38;5;28;01mreturn\u001b[39;00m _read(filepath_or_buffer, kwds)\n",
      "File \u001b[1;32m~\\anaconda3\\Lib\\site-packages\\pandas\\io\\parsers\\readers.py:620\u001b[0m, in \u001b[0;36m_read\u001b[1;34m(filepath_or_buffer, kwds)\u001b[0m\n\u001b[0;32m    617\u001b[0m _validate_names(kwds\u001b[38;5;241m.\u001b[39mget(\u001b[38;5;124m\"\u001b[39m\u001b[38;5;124mnames\u001b[39m\u001b[38;5;124m\"\u001b[39m, \u001b[38;5;28;01mNone\u001b[39;00m))\n\u001b[0;32m    619\u001b[0m \u001b[38;5;66;03m# Create the parser.\u001b[39;00m\n\u001b[1;32m--> 620\u001b[0m parser \u001b[38;5;241m=\u001b[39m TextFileReader(filepath_or_buffer, \u001b[38;5;241m*\u001b[39m\u001b[38;5;241m*\u001b[39mkwds)\n\u001b[0;32m    622\u001b[0m \u001b[38;5;28;01mif\u001b[39;00m chunksize \u001b[38;5;129;01mor\u001b[39;00m iterator:\n\u001b[0;32m    623\u001b[0m     \u001b[38;5;28;01mreturn\u001b[39;00m parser\n",
      "File \u001b[1;32m~\\anaconda3\\Lib\\site-packages\\pandas\\io\\parsers\\readers.py:1620\u001b[0m, in \u001b[0;36mTextFileReader.__init__\u001b[1;34m(self, f, engine, **kwds)\u001b[0m\n\u001b[0;32m   1617\u001b[0m     \u001b[38;5;28mself\u001b[39m\u001b[38;5;241m.\u001b[39moptions[\u001b[38;5;124m\"\u001b[39m\u001b[38;5;124mhas_index_names\u001b[39m\u001b[38;5;124m\"\u001b[39m] \u001b[38;5;241m=\u001b[39m kwds[\u001b[38;5;124m\"\u001b[39m\u001b[38;5;124mhas_index_names\u001b[39m\u001b[38;5;124m\"\u001b[39m]\n\u001b[0;32m   1619\u001b[0m \u001b[38;5;28mself\u001b[39m\u001b[38;5;241m.\u001b[39mhandles: IOHandles \u001b[38;5;241m|\u001b[39m \u001b[38;5;28;01mNone\u001b[39;00m \u001b[38;5;241m=\u001b[39m \u001b[38;5;28;01mNone\u001b[39;00m\n\u001b[1;32m-> 1620\u001b[0m \u001b[38;5;28mself\u001b[39m\u001b[38;5;241m.\u001b[39m_engine \u001b[38;5;241m=\u001b[39m \u001b[38;5;28mself\u001b[39m\u001b[38;5;241m.\u001b[39m_make_engine(f, \u001b[38;5;28mself\u001b[39m\u001b[38;5;241m.\u001b[39mengine)\n",
      "File \u001b[1;32m~\\anaconda3\\Lib\\site-packages\\pandas\\io\\parsers\\readers.py:1880\u001b[0m, in \u001b[0;36mTextFileReader._make_engine\u001b[1;34m(self, f, engine)\u001b[0m\n\u001b[0;32m   1878\u001b[0m     \u001b[38;5;28;01mif\u001b[39;00m \u001b[38;5;124m\"\u001b[39m\u001b[38;5;124mb\u001b[39m\u001b[38;5;124m\"\u001b[39m \u001b[38;5;129;01mnot\u001b[39;00m \u001b[38;5;129;01min\u001b[39;00m mode:\n\u001b[0;32m   1879\u001b[0m         mode \u001b[38;5;241m+\u001b[39m\u001b[38;5;241m=\u001b[39m \u001b[38;5;124m\"\u001b[39m\u001b[38;5;124mb\u001b[39m\u001b[38;5;124m\"\u001b[39m\n\u001b[1;32m-> 1880\u001b[0m \u001b[38;5;28mself\u001b[39m\u001b[38;5;241m.\u001b[39mhandles \u001b[38;5;241m=\u001b[39m get_handle(\n\u001b[0;32m   1881\u001b[0m     f,\n\u001b[0;32m   1882\u001b[0m     mode,\n\u001b[0;32m   1883\u001b[0m     encoding\u001b[38;5;241m=\u001b[39m\u001b[38;5;28mself\u001b[39m\u001b[38;5;241m.\u001b[39moptions\u001b[38;5;241m.\u001b[39mget(\u001b[38;5;124m\"\u001b[39m\u001b[38;5;124mencoding\u001b[39m\u001b[38;5;124m\"\u001b[39m, \u001b[38;5;28;01mNone\u001b[39;00m),\n\u001b[0;32m   1884\u001b[0m     compression\u001b[38;5;241m=\u001b[39m\u001b[38;5;28mself\u001b[39m\u001b[38;5;241m.\u001b[39moptions\u001b[38;5;241m.\u001b[39mget(\u001b[38;5;124m\"\u001b[39m\u001b[38;5;124mcompression\u001b[39m\u001b[38;5;124m\"\u001b[39m, \u001b[38;5;28;01mNone\u001b[39;00m),\n\u001b[0;32m   1885\u001b[0m     memory_map\u001b[38;5;241m=\u001b[39m\u001b[38;5;28mself\u001b[39m\u001b[38;5;241m.\u001b[39moptions\u001b[38;5;241m.\u001b[39mget(\u001b[38;5;124m\"\u001b[39m\u001b[38;5;124mmemory_map\u001b[39m\u001b[38;5;124m\"\u001b[39m, \u001b[38;5;28;01mFalse\u001b[39;00m),\n\u001b[0;32m   1886\u001b[0m     is_text\u001b[38;5;241m=\u001b[39mis_text,\n\u001b[0;32m   1887\u001b[0m     errors\u001b[38;5;241m=\u001b[39m\u001b[38;5;28mself\u001b[39m\u001b[38;5;241m.\u001b[39moptions\u001b[38;5;241m.\u001b[39mget(\u001b[38;5;124m\"\u001b[39m\u001b[38;5;124mencoding_errors\u001b[39m\u001b[38;5;124m\"\u001b[39m, \u001b[38;5;124m\"\u001b[39m\u001b[38;5;124mstrict\u001b[39m\u001b[38;5;124m\"\u001b[39m),\n\u001b[0;32m   1888\u001b[0m     storage_options\u001b[38;5;241m=\u001b[39m\u001b[38;5;28mself\u001b[39m\u001b[38;5;241m.\u001b[39moptions\u001b[38;5;241m.\u001b[39mget(\u001b[38;5;124m\"\u001b[39m\u001b[38;5;124mstorage_options\u001b[39m\u001b[38;5;124m\"\u001b[39m, \u001b[38;5;28;01mNone\u001b[39;00m),\n\u001b[0;32m   1889\u001b[0m )\n\u001b[0;32m   1890\u001b[0m \u001b[38;5;28;01massert\u001b[39;00m \u001b[38;5;28mself\u001b[39m\u001b[38;5;241m.\u001b[39mhandles \u001b[38;5;129;01mis\u001b[39;00m \u001b[38;5;129;01mnot\u001b[39;00m \u001b[38;5;28;01mNone\u001b[39;00m\n\u001b[0;32m   1891\u001b[0m f \u001b[38;5;241m=\u001b[39m \u001b[38;5;28mself\u001b[39m\u001b[38;5;241m.\u001b[39mhandles\u001b[38;5;241m.\u001b[39mhandle\n",
      "File \u001b[1;32m~\\anaconda3\\Lib\\site-packages\\pandas\\io\\common.py:873\u001b[0m, in \u001b[0;36mget_handle\u001b[1;34m(path_or_buf, mode, encoding, compression, memory_map, is_text, errors, storage_options)\u001b[0m\n\u001b[0;32m    868\u001b[0m \u001b[38;5;28;01melif\u001b[39;00m \u001b[38;5;28misinstance\u001b[39m(handle, \u001b[38;5;28mstr\u001b[39m):\n\u001b[0;32m    869\u001b[0m     \u001b[38;5;66;03m# Check whether the filename is to be opened in binary mode.\u001b[39;00m\n\u001b[0;32m    870\u001b[0m     \u001b[38;5;66;03m# Binary mode does not support 'encoding' and 'newline'.\u001b[39;00m\n\u001b[0;32m    871\u001b[0m     \u001b[38;5;28;01mif\u001b[39;00m ioargs\u001b[38;5;241m.\u001b[39mencoding \u001b[38;5;129;01mand\u001b[39;00m \u001b[38;5;124m\"\u001b[39m\u001b[38;5;124mb\u001b[39m\u001b[38;5;124m\"\u001b[39m \u001b[38;5;129;01mnot\u001b[39;00m \u001b[38;5;129;01min\u001b[39;00m ioargs\u001b[38;5;241m.\u001b[39mmode:\n\u001b[0;32m    872\u001b[0m         \u001b[38;5;66;03m# Encoding\u001b[39;00m\n\u001b[1;32m--> 873\u001b[0m         handle \u001b[38;5;241m=\u001b[39m \u001b[38;5;28mopen\u001b[39m(\n\u001b[0;32m    874\u001b[0m             handle,\n\u001b[0;32m    875\u001b[0m             ioargs\u001b[38;5;241m.\u001b[39mmode,\n\u001b[0;32m    876\u001b[0m             encoding\u001b[38;5;241m=\u001b[39mioargs\u001b[38;5;241m.\u001b[39mencoding,\n\u001b[0;32m    877\u001b[0m             errors\u001b[38;5;241m=\u001b[39merrors,\n\u001b[0;32m    878\u001b[0m             newline\u001b[38;5;241m=\u001b[39m\u001b[38;5;124m\"\u001b[39m\u001b[38;5;124m\"\u001b[39m,\n\u001b[0;32m    879\u001b[0m         )\n\u001b[0;32m    880\u001b[0m     \u001b[38;5;28;01melse\u001b[39;00m:\n\u001b[0;32m    881\u001b[0m         \u001b[38;5;66;03m# Binary mode\u001b[39;00m\n\u001b[0;32m    882\u001b[0m         handle \u001b[38;5;241m=\u001b[39m \u001b[38;5;28mopen\u001b[39m(handle, ioargs\u001b[38;5;241m.\u001b[39mmode)\n",
      "\u001b[1;31mFileNotFoundError\u001b[0m: [Errno 2] No such file or directory: 'TRAIN DATA.csv'"
     ]
    }
   ],
   "source": [
    "df = pd.read_csv('TRAIN DATA.csv')\n",
    "df.head()"
   ]
  },
  {
   "cell_type": "code",
   "execution_count": null,
   "id": "b788df21-b617-4c03-bc1b-7aff6ece6577",
   "metadata": {},
   "outputs": [],
   "source": [
    "pd.DataFrame(df.info())"
   ]
  },
  {
   "cell_type": "markdown",
   "id": "7e0f30fb-eaaa-493d-a25d-b120c27dd2a6",
   "metadata": {},
   "source": [
    "## **Checking null values**"
   ]
  },
  {
   "cell_type": "code",
   "execution_count": null,
   "id": "b7fbfb36-d915-48d6-b1c6-72172f8c612e",
   "metadata": {},
   "outputs": [],
   "source": [
    "df.isnull().sum()"
   ]
  },
  {
   "cell_type": "markdown",
   "id": "12d1aacb-2758-4d93-a7c3-91349f683d8e",
   "metadata": {},
   "source": [
    "## **Checking duplicates values**"
   ]
  },
  {
   "cell_type": "code",
   "execution_count": null,
   "id": "6d5db60f-5619-4e98-a1a3-4df19af57c2a",
   "metadata": {},
   "outputs": [],
   "source": [
    "df.duplicated().sum()"
   ]
  },
  {
   "cell_type": "markdown",
   "id": "40cc8a8f-95b1-4362-aa13-db59d3b0eca3",
   "metadata": {},
   "source": [
    "## **Changing data type from object to float type**"
   ]
  },
  {
   "cell_type": "code",
   "execution_count": null,
   "id": "bc523e1d-d5ae-4f57-9eb6-729b1623a5dc",
   "metadata": {},
   "outputs": [],
   "source": [
    "df['TotalCharges'] = pd.to_numeric(df['TotalCharges'], errors='coerce').astype(dtype='float64')"
   ]
  },
  {
   "cell_type": "code",
   "execution_count": null,
   "id": "4ffba786-f715-43d6-a3d1-c4791b3aa217",
   "metadata": {},
   "outputs": [],
   "source": [
    "df['TotalCharges'].isnull().sum()"
   ]
  },
  {
   "cell_type": "markdown",
   "id": "a7f5dc8c-38ca-4ce9-9702-cfd7e625ba26",
   "metadata": {},
   "source": [
    "There might be some values that cannot be turned in float value, so it converted it into null value."
   ]
  },
  {
   "cell_type": "code",
   "execution_count": null,
   "id": "9d1772a3-45bd-434b-9e35-4b8c1582ce5b",
   "metadata": {},
   "outputs": [],
   "source": [
    "df.dropna(inplace=True) # droping values because only 8 values were null"
   ]
  },
  {
   "cell_type": "code",
   "execution_count": null,
   "id": "10151846-26e3-415b-a9d2-437960785ee2",
   "metadata": {},
   "outputs": [],
   "source": [
    "df['TotalCharges'].isnull().sum()"
   ]
  },
  {
   "cell_type": "markdown",
   "id": "29ee8a44-d802-45f8-b377-8fc139972a3a",
   "metadata": {},
   "source": [
    "## **These columns have more than two values**"
   ]
  },
  {
   "cell_type": "code",
   "execution_count": null,
   "id": "1d22ec80-196e-48a9-a846-86a3525ecc7f",
   "metadata": {},
   "outputs": [],
   "source": [
    "lst =['MultipleLines',\t'InternetService', \t'OnlineSecurity',\t'OnlineBackup',\t'DeviceProtection',\t\n",
    "      'TechSupport',\t'StreamingTV',\t'StreamingMovies',\t'Contract', 'PaymentMethod']"
   ]
  },
  {
   "cell_type": "code",
   "execution_count": null,
   "id": "484d212f-a50f-452d-be25-f2b66b61f7ad",
   "metadata": {},
   "outputs": [],
   "source": [
    "lst_3 = df[lst]"
   ]
  },
  {
   "cell_type": "code",
   "execution_count": null,
   "id": "6a99c7ff-6e28-4db4-8a08-5cbb4bd2a58a",
   "metadata": {},
   "outputs": [],
   "source": [
    "from sklearn.preprocessing import LabelEncoder\n",
    "for col in lst:\n",
    "    lst_3[col] = LabelEncoder().fit_transform(df[col])\n"
   ]
  },
  {
   "cell_type": "markdown",
   "id": "5f94151c-a2b9-40ea-a14d-62b46f2540f9",
   "metadata": {},
   "source": [
    "**Using LabelEncoder, I converted it into numerical columns**"
   ]
  },
  {
   "cell_type": "code",
   "execution_count": null,
   "id": "72f193cd-a56b-4145-9671-4e63e214e323",
   "metadata": {},
   "outputs": [],
   "source": [
    "lst_3.head()"
   ]
  },
  {
   "cell_type": "markdown",
   "id": "20e63dfa-5609-45ed-a793-797c478a73d3",
   "metadata": {},
   "source": [
    "## **These columns have only two values**"
   ]
  },
  {
   "cell_type": "code",
   "execution_count": null,
   "id": "ffcc8db3-8427-4db4-b75d-3a8b9c927dff",
   "metadata": {},
   "outputs": [],
   "source": [
    "val_2 = ['gender', 'Partner',\t'Dependents', 'PhoneService', 'PaperlessBilling']"
   ]
  },
  {
   "cell_type": "code",
   "execution_count": null,
   "id": "df792032-dcd9-4464-9015-a98fb5f3c410",
   "metadata": {},
   "outputs": [],
   "source": [
    "#Encode categorical variables\n",
    "df_encoded = pd.get_dummies(df[val_2], drop_first=True)"
   ]
  },
  {
   "cell_type": "code",
   "execution_count": null,
   "id": "29776f0d-120e-435a-a276-f592a951baa8",
   "metadata": {},
   "outputs": [],
   "source": [
    "for i in df_encoded.columns:\n",
    "    df_encoded[i] = df_encoded[i].apply(lambda x:1 if x else 0)\n",
    "df_encoded.columns = val_2"
   ]
  },
  {
   "cell_type": "markdown",
   "id": "847fb3d2-7dd9-474d-9d33-0dc2e1550d87",
   "metadata": {},
   "source": [
    "**Using Lambda function, Assining value 1 to True and 0 to False**"
   ]
  },
  {
   "cell_type": "code",
   "execution_count": null,
   "id": "5d22b563-5a0e-4f4a-8eb1-e73a7ec14316",
   "metadata": {},
   "outputs": [],
   "source": [
    "df_encoded.head()"
   ]
  },
  {
   "cell_type": "markdown",
   "id": "16e8f284-7176-4e48-a773-b7453d379882",
   "metadata": {},
   "source": [
    "## **These columns have very large values**\n",
    "- Using StandardScaler, mapping values in range -3 to +3 assuming normal distribution"
   ]
  },
  {
   "cell_type": "code",
   "execution_count": null,
   "id": "32b03918-7446-4d95-924d-85fe6f438ffc",
   "metadata": {},
   "outputs": [],
   "source": [
    "from sklearn.preprocessing import StandardScaler\n",
    "num_col = df[['tenure', 'MonthlyCharges', 'TotalCharges']]\n",
    "\n",
    "sl = StandardScaler().fit_transform(num_col)\n",
    "num_df = pd.DataFrame(sl, columns=['tenure', 'MonthlyCharges', 'TotalCharges'], index=df.index)\n",
    "num_df.head()"
   ]
  },
  {
   "cell_type": "markdown",
   "id": "1c9ffafd-05ec-45de-a3b1-b46f303f02f2",
   "metadata": {},
   "source": [
    "## **Concatenating all vlaues**"
   ]
  },
  {
   "cell_type": "code",
   "execution_count": null,
   "id": "eda74af4-738f-4f76-9766-5807c9aa8fab",
   "metadata": {},
   "outputs": [],
   "source": [
    "x_col = pd.concat([lst_3, df_encoded, df['SeniorCitizen'], num_df], axis=1)\n",
    "x_col"
   ]
  },
  {
   "cell_type": "code",
   "execution_count": null,
   "id": "ab399fcd-0680-4157-b38a-8e7b3abc827f",
   "metadata": {},
   "outputs": [],
   "source": [
    "# calculating correlation based on \"Pearson correlation\"\n",
    "corr = x_col.corr()"
   ]
  },
  {
   "cell_type": "markdown",
   "id": "745d2797-3047-499c-8a06-55b277346ee8",
   "metadata": {},
   "source": [
    "## **Plotting heatmap to see correlation**"
   ]
  },
  {
   "cell_type": "code",
   "execution_count": null,
   "id": "a0f6fde0-6f38-40d6-86f3-c894948704e3",
   "metadata": {},
   "outputs": [],
   "source": [
    "import seaborn as sns\n",
    "import matplotlib.pyplot as plt \n",
    "plt.figure(figsize=(12, 8))\n",
    "sns.heatmap(corr, annot=True, fmt='.2f', cmap='coolwarm')\n",
    "plt.title('Heatmap: Pearson correlation', color='Orange', fontsize=16)\n",
    "plt.show()"
   ]
  },
  {
   "cell_type": "markdown",
   "id": "37e81411-a704-480d-8c36-4159bd0e35af",
   "metadata": {},
   "source": [
    "# Using Random undersampling to remove bias"
   ]
  },
  {
   "cell_type": "code",
   "execution_count": null,
   "id": "c187e5c3-d639-46ef-b310-3e711e82d2c9",
   "metadata": {},
   "outputs": [],
   "source": [
    "from imblearn.under_sampling import RandomUnderSampler\n",
    "\n",
    "rx, ry = RandomUnderSampler().fit_resample(x_col, df['churned'])\n",
    "print(rx)"
   ]
  },
  {
   "cell_type": "code",
   "execution_count": null,
   "id": "461fab77-165a-4f8f-9983-8a96ecc2a4cb",
   "metadata": {},
   "outputs": [],
   "source": [
    "ry.value_counts()"
   ]
  },
  {
   "cell_type": "markdown",
   "id": "37191395-ea59-43bc-a490-c15fc588bc22",
   "metadata": {},
   "source": [
    "# IMPORT TEST DATASET"
   ]
  },
  {
   "cell_type": "code",
   "execution_count": null,
   "id": "1e57afea-5a57-4f6c-aebd-b915f6f4ab19",
   "metadata": {},
   "outputs": [],
   "source": [
    "data = pd.read_csv('TEST DATA.csv')\n",
    "data.head()"
   ]
  },
  {
   "cell_type": "markdown",
   "id": "24cfe060-a698-4566-a61e-6fcbd91f57f6",
   "metadata": {},
   "source": [
    "# CLEANING TEST DATASET"
   ]
  },
  {
   "cell_type": "code",
   "execution_count": null,
   "id": "1fb5ca77-9bb1-4e68-ad07-4d1757833236",
   "metadata": {},
   "outputs": [],
   "source": [
    "data['TotalCharges'] = pd.to_numeric(data['TotalCharges'], errors='coerce').astype(dtype='float64')"
   ]
  },
  {
   "cell_type": "code",
   "execution_count": null,
   "id": "64eea218-ba0d-4516-ab6e-6e74eacced83",
   "metadata": {},
   "outputs": [],
   "source": [
    "data['TotalCharges'].isnull().sum()"
   ]
  },
  {
   "cell_type": "code",
   "execution_count": null,
   "id": "b665b9a0-89c6-42a5-be8f-08624ca4a547",
   "metadata": {},
   "outputs": [],
   "source": [
    "data.dropna(inplace=True) # droping values because only 8 values were null"
   ]
  },
  {
   "cell_type": "code",
   "execution_count": null,
   "id": "4c32fb99-0b96-4cdd-8194-3bf0ffbe8e7e",
   "metadata": {},
   "outputs": [],
   "source": [
    "k =['MultipleLines',\t'InternetService', \t'OnlineSecurity',\t'OnlineBackup',\t'DeviceProtection',\t\n",
    "      'TechSupport',\t'StreamingTV',\t'StreamingMovies',\t'Contract', 'PaymentMethod']"
   ]
  },
  {
   "cell_type": "code",
   "execution_count": null,
   "id": "e50f0bd9-563b-470f-9866-93f598c4a93e",
   "metadata": {},
   "outputs": [],
   "source": [
    "lst_4 = data[k]"
   ]
  },
  {
   "cell_type": "code",
   "execution_count": null,
   "id": "0409922a-4965-439e-ab17-cce865ec9866",
   "metadata": {},
   "outputs": [],
   "source": [
    "from sklearn.preprocessing import LabelEncoder\n",
    "for col in k:\n",
    "    lst_4[col] = LabelEncoder().fit_transform(data[col])"
   ]
  },
  {
   "cell_type": "code",
   "execution_count": null,
   "id": "f6932298-3d01-43a1-8493-ee63bc6e34df",
   "metadata": {},
   "outputs": [],
   "source": [
    "val_3 = ['gender', 'Partner',\t'Dependents', 'PhoneService', 'PaperlessBilling']"
   ]
  },
  {
   "cell_type": "code",
   "execution_count": null,
   "id": "3459099f-4c01-456b-851f-fdc3287d641e",
   "metadata": {},
   "outputs": [],
   "source": [
    "#Encode categorical variables\n",
    "data_encoded = pd.get_dummies(data[val_3], drop_first=True)"
   ]
  },
  {
   "cell_type": "code",
   "execution_count": null,
   "id": "9f026d0c-a790-41e0-9055-e990fc01ccd5",
   "metadata": {},
   "outputs": [],
   "source": [
    "for i in data_encoded.columns:\n",
    "    data_encoded[i] = data_encoded[i].apply(lambda x:1 if x else 0)\n",
    "data_encoded.columns = val_3"
   ]
  },
  {
   "cell_type": "code",
   "execution_count": null,
   "id": "76a1e5dc-8ab2-4eda-b30f-795495cec9ef",
   "metadata": {},
   "outputs": [],
   "source": [
    "from sklearn.preprocessing import StandardScaler\n",
    "num_col = data[['tenure', 'MonthlyCharges', 'TotalCharges']]\n",
    "\n",
    "sl = StandardScaler().fit_transform(num_col)\n",
    "num_data = pd.DataFrame(sl, columns=['tenure', 'MonthlyCharges', 'TotalCharges'], index=data.index)"
   ]
  },
  {
   "cell_type": "code",
   "execution_count": null,
   "id": "e12a414b-8047-46af-92a5-d53d88495532",
   "metadata": {},
   "outputs": [],
   "source": [
    "x_test_col = pd.concat([lst_4, data_encoded, data['SeniorCitizen'], num_data], axis=1)\n",
    "x_test_col"
   ]
  },
  {
   "cell_type": "markdown",
   "id": "f8b3b2a7-f070-472f-97e3-4aa8e9d23128",
   "metadata": {},
   "source": [
    "# LOGISTIC REGRESSION MODEL"
   ]
  },
  {
   "cell_type": "code",
   "execution_count": null,
   "id": "dfd136ba-a5ca-432e-9e31-82c9a44c4674",
   "metadata": {},
   "outputs": [],
   "source": [
    "import pandas as pd\n",
    "import numpy as np\n",
    "from sklearn.model_selection import train_test_split\n",
    "from sklearn.linear_model import LogisticRegression\n",
    "from sklearn.ensemble import RandomForestClassifier\n",
    "from sklearn.metrics import accuracy_score, classification_report\n",
    "log_model = LogisticRegression()\n",
    "log_model.fit(x_col,df['churned'])\n",
    "\n",
    "y_pred_log = log_model.predict(x_col)\n",
    "\n",
    "print(\"🔹 Logistic Regression Accuracy:\", accuracy_score(df['churned'], y_pred_log))\n",
    "print(classification_report(df['churned'], y_pred_log))"
   ]
  },
  {
   "cell_type": "markdown",
   "id": "639c0d0d-5f97-4a87-8a19-f5c65f6174bc",
   "metadata": {},
   "source": [
    "# RandomForest MODEL"
   ]
  },
  {
   "cell_type": "code",
   "execution_count": null,
   "id": "3967e6d6-3ab3-4aa7-976c-672f05245cc6",
   "metadata": {},
   "outputs": [],
   "source": [
    "rf_model = RandomForestClassifier(random_state=42)\n",
    "rf_model.fit(x_col,df['churned'])\n",
    "\n",
    "y_pred_rf = rf_model.predict(x_col)\n",
    "\n",
    "print(\"Random Forest Accuracy:\", accuracy_score(df['churned'], y_pred_rf))\n",
    "\n",
    "print(classification_report(df['churned'], y_pred_rf))"
   ]
  },
  {
   "cell_type": "markdown",
   "id": "8d14e028-6dfa-402c-9443-7babbed3524e",
   "metadata": {},
   "source": [
    "# PREDICTING PROBABLITIES FOR ROC-AUC CURVE"
   ]
  },
  {
   "cell_type": "code",
   "execution_count": null,
   "id": "a5d7d35d-4dbb-402f-965d-3c4502a959ab",
   "metadata": {},
   "outputs": [],
   "source": [
    "import matplotlib.pyplot as plt\n",
    "from sklearn.metrics import roc_curve, auc\n",
    "\n",
    "# Predict probabilities\n",
    "y_prob_log = log_model.predict_proba(x_test_col)\n",
    "y_prob_rf = rf_model.predict_proba(x_test_col)\n",
    "y_prob_rf "
   ]
  },
  {
   "cell_type": "markdown",
   "id": "1e5e5186-071f-4efa-857b-1ecc3b80d4dd",
   "metadata": {},
   "source": [
    "# Important Coefficients from Logistic Regression Model"
   ]
  },
  {
   "cell_type": "code",
   "execution_count": null,
   "id": "a9e55ce4-fe31-4a8c-83e0-de71ad48625e",
   "metadata": {},
   "outputs": [],
   "source": [
    "import matplotlib.pyplot as plt\n",
    "import pandas as pd\n",
    "import numpy as np\n",
    "\n",
    "# Assuming this is your trained model and feature set\n",
    "# log_model = LogisticRegression().fit(X_train, y_train)\n",
    "# X = your input features (DataFrame)\n",
    "\n",
    "# Get feature names and coefficients\n",
    "feature_names = x_col.columns\n",
    "coefficients = log_model.coef_[0]  # Coefficients for the positive class\n",
    "\n",
    "# Create a DataFrame for easier plotting\n",
    "coef_df = pd.DataFrame({\n",
    "    'Feature': feature_names,\n",
    "    'Coefficient': coefficients,\n",
    "    'AbsCoefficient': np.abs(coefficients)\n",
    "})\n",
    "\n",
    "# Sort by absolute value of coefficients\n",
    "coef_df = coef_df.sort_values(by='AbsCoefficient', ascending=False)\n",
    "\n",
    "# Plot\n",
    "plt.figure(figsize=(8, 5))\n",
    "plt.barh(coef_df['Feature'], coef_df['Coefficient'], color='skyblue')\n",
    "plt.axvline(0, color='gray', linestyle='--')\n",
    "plt.xlabel('Coefficient Value')\n",
    "plt.title('Important Coefficients from Logistic Regression Model')\n",
    "plt.gca().invert_yaxis()  # Most important on top\n",
    "plt.grid(True, axis='x')\n",
    "plt.tight_layout()\n",
    "plt.show()"
   ]
  },
  {
   "cell_type": "code",
   "execution_count": null,
   "id": "02c96cfa-f316-4360-a6ab-1f0526f50266",
   "metadata": {},
   "outputs": [],
   "source": []
  }
 ],
 "metadata": {
  "kernelspec": {
   "display_name": "Python 3 (ipykernel)",
   "language": "python",
   "name": "python3"
  },
  "language_info": {
   "codemirror_mode": {
    "name": "ipython",
    "version": 3
   },
   "file_extension": ".py",
   "mimetype": "text/x-python",
   "name": "python",
   "nbconvert_exporter": "python",
   "pygments_lexer": "ipython3",
   "version": "3.12.7"
  }
 },
 "nbformat": 4,
 "nbformat_minor": 5
}
